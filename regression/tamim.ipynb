{
  "nbformat": 4,
  "nbformat_minor": 0,
  "metadata": {
    "colab": {
      "name": "Datacamp.ipynb",
      "provenance": [],
      "collapsed_sections": [],
      "toc_visible": true
    },
    "kernelspec": {
      "name": "python3",
      "display_name": "Python 3"
    }
  },
  "cells": [
    {
      "cell_type": "markdown",
      "metadata": {
        "id": "YULz5x4-BV-Q",
        "colab_type": "text"
      },
      "source": [
        "# Packages and Data Load"
      ]
    },
    {
      "cell_type": "markdown",
      "metadata": {
        "id": "5c4Kb54E95so",
        "colab_type": "text"
      },
      "source": [
        "Loading packages and data"
      ]
    },
    {
      "cell_type": "code",
      "metadata": {
        "id": "fuvEEFLl106l",
        "colab_type": "code",
        "colab": {}
      },
      "source": [
        "import pandas as pd\n",
        "import matplotlib.pyplot as plt\n",
        "import seaborn as sns\n",
        "plt.style.use('ggplot')"
      ],
      "execution_count": 0,
      "outputs": []
    },
    {
      "cell_type": "code",
      "metadata": {
        "id": "wqDOc3k42JJ7",
        "colab_type": "code",
        "colab": {}
      },
      "source": [
        "df = pd.read_csv('./tamim_t20_jan_2020_stat_cricinfo.csv', index_col='date', parse_dates=True)"
      ],
      "execution_count": 0,
      "outputs": []
    },
    {
      "cell_type": "markdown",
      "metadata": {
        "id": "6ukGnrquBenx",
        "colab_type": "text"
      },
      "source": [
        "# EDA"
      ]
    },
    {
      "cell_type": "markdown",
      "metadata": {
        "id": "veEBUiMt-C6Z",
        "colab_type": "text"
      },
      "source": [
        "Data Overview"
      ]
    },
    {
      "cell_type": "code",
      "metadata": {
        "id": "vUbrT0zQ2TOK",
        "colab_type": "code",
        "outputId": "603b72c3-baa2-4398-88e5-ac9adb943c7e",
        "colab": {
          "base_uri": "https://localhost:8080/",
          "height": 394
        }
      },
      "source": [
        "# top 10 entries\n",
        "df.head(10)"
      ],
      "execution_count": 3,
      "outputs": [
        {
          "output_type": "execute_result",
          "data": {
            "text/html": [
              "<div>\n",
              "<style scoped>\n",
              "    .dataframe tbody tr th:only-of-type {\n",
              "        vertical-align: middle;\n",
              "    }\n",
              "\n",
              "    .dataframe tbody tr th {\n",
              "        vertical-align: top;\n",
              "    }\n",
              "\n",
              "    .dataframe thead th {\n",
              "        text-align: right;\n",
              "    }\n",
              "</style>\n",
              "<table border=\"1\" class=\"dataframe\">\n",
              "  <thead>\n",
              "    <tr style=\"text-align: right;\">\n",
              "      <th></th>\n",
              "      <th>runs</th>\n",
              "      <th>opposition</th>\n",
              "      <th>ground</th>\n",
              "    </tr>\n",
              "    <tr>\n",
              "      <th>date</th>\n",
              "      <th></th>\n",
              "      <th></th>\n",
              "      <th></th>\n",
              "    </tr>\n",
              "  </thead>\n",
              "  <tbody>\n",
              "    <tr>\n",
              "      <th>2007-01-09</th>\n",
              "      <td>11</td>\n",
              "      <td>Kenya</td>\n",
              "      <td>Nairobi (Gym)</td>\n",
              "    </tr>\n",
              "    <tr>\n",
              "      <th>2007-02-09</th>\n",
              "      <td>1</td>\n",
              "      <td>Pakistan</td>\n",
              "      <td>Nairobi (Gym)</td>\n",
              "    </tr>\n",
              "    <tr>\n",
              "      <th>2007-09-13</th>\n",
              "      <td>10</td>\n",
              "      <td>West Indies</td>\n",
              "      <td>Johannesburg</td>\n",
              "    </tr>\n",
              "    <tr>\n",
              "      <th>2007-09-15</th>\n",
              "      <td>8</td>\n",
              "      <td>South Africa</td>\n",
              "      <td>Cape Town</td>\n",
              "    </tr>\n",
              "    <tr>\n",
              "      <th>2007-09-16</th>\n",
              "      <td>32</td>\n",
              "      <td>Australia</td>\n",
              "      <td>Cape Town</td>\n",
              "    </tr>\n",
              "    <tr>\n",
              "      <th>2007-09-18</th>\n",
              "      <td>3</td>\n",
              "      <td>Sri Lanka</td>\n",
              "      <td>Johannesburg</td>\n",
              "    </tr>\n",
              "    <tr>\n",
              "      <th>2007-09-20</th>\n",
              "      <td>3</td>\n",
              "      <td>Pakistan</td>\n",
              "      <td>Cape Town</td>\n",
              "    </tr>\n",
              "    <tr>\n",
              "      <th>2008-04-20</th>\n",
              "      <td>23</td>\n",
              "      <td>Pakistan</td>\n",
              "      <td>Karachi</td>\n",
              "    </tr>\n",
              "    <tr>\n",
              "      <th>2008-05-11</th>\n",
              "      <td>25</td>\n",
              "      <td>South Africa</td>\n",
              "      <td>Johannesburg</td>\n",
              "    </tr>\n",
              "    <tr>\n",
              "      <th>2009-06-06</th>\n",
              "      <td>15</td>\n",
              "      <td>India</td>\n",
              "      <td>Nottingham</td>\n",
              "    </tr>\n",
              "  </tbody>\n",
              "</table>\n",
              "</div>"
            ],
            "text/plain": [
              "            runs    opposition         ground\n",
              "date                                         \n",
              "2007-01-09    11         Kenya  Nairobi (Gym)\n",
              "2007-02-09     1      Pakistan  Nairobi (Gym)\n",
              "2007-09-13    10   West Indies   Johannesburg\n",
              "2007-09-15     8  South Africa      Cape Town\n",
              "2007-09-16    32     Australia      Cape Town\n",
              "2007-09-18     3     Sri Lanka   Johannesburg\n",
              "2007-09-20     3      Pakistan      Cape Town\n",
              "2008-04-20    23      Pakistan        Karachi\n",
              "2008-05-11    25  South Africa   Johannesburg\n",
              "2009-06-06    15         India     Nottingham"
            ]
          },
          "metadata": {
            "tags": []
          },
          "execution_count": 3
        }
      ]
    },
    {
      "cell_type": "code",
      "metadata": {
        "id": "IJB_wV629cIZ",
        "colab_type": "code",
        "outputId": "2e4d2987-453d-46b8-ff5b-182dbaad80b6",
        "colab": {
          "base_uri": "https://localhost:8080/",
          "height": 394
        }
      },
      "source": [
        "# last 10 entries\n",
        "df.tail(10)"
      ],
      "execution_count": 4,
      "outputs": [
        {
          "output_type": "execute_result",
          "data": {
            "text/html": [
              "<div>\n",
              "<style scoped>\n",
              "    .dataframe tbody tr th:only-of-type {\n",
              "        vertical-align: middle;\n",
              "    }\n",
              "\n",
              "    .dataframe tbody tr th {\n",
              "        vertical-align: top;\n",
              "    }\n",
              "\n",
              "    .dataframe thead th {\n",
              "        text-align: right;\n",
              "    }\n",
              "</style>\n",
              "<table border=\"1\" class=\"dataframe\">\n",
              "  <thead>\n",
              "    <tr style=\"text-align: right;\">\n",
              "      <th></th>\n",
              "      <th>runs</th>\n",
              "      <th>opposition</th>\n",
              "      <th>ground</th>\n",
              "    </tr>\n",
              "    <tr>\n",
              "      <th>date</th>\n",
              "      <th></th>\n",
              "      <th></th>\n",
              "      <th></th>\n",
              "    </tr>\n",
              "  </thead>\n",
              "  <tbody>\n",
              "    <tr>\n",
              "      <th>2018-05-06</th>\n",
              "      <td>43</td>\n",
              "      <td>Afghanistan</td>\n",
              "      <td>Dehradun</td>\n",
              "    </tr>\n",
              "    <tr>\n",
              "      <th>2018-07-06</th>\n",
              "      <td>5</td>\n",
              "      <td>Afghanistan</td>\n",
              "      <td>Dehradun</td>\n",
              "    </tr>\n",
              "    <tr>\n",
              "      <th>2018-07-31</th>\n",
              "      <td>0</td>\n",
              "      <td>West Indies</td>\n",
              "      <td>Basseterre</td>\n",
              "    </tr>\n",
              "    <tr>\n",
              "      <th>2018-04-08</th>\n",
              "      <td>74</td>\n",
              "      <td>West Indies</td>\n",
              "      <td>Lauderhill</td>\n",
              "    </tr>\n",
              "    <tr>\n",
              "      <th>2018-05-08</th>\n",
              "      <td>21</td>\n",
              "      <td>West Indies</td>\n",
              "      <td>Lauderhill</td>\n",
              "    </tr>\n",
              "    <tr>\n",
              "      <th>2018-12-17</th>\n",
              "      <td>5</td>\n",
              "      <td>West Indies</td>\n",
              "      <td>Sylhet</td>\n",
              "    </tr>\n",
              "    <tr>\n",
              "      <th>2018-12-20</th>\n",
              "      <td>15</td>\n",
              "      <td>West Indies</td>\n",
              "      <td>Dhaka</td>\n",
              "    </tr>\n",
              "    <tr>\n",
              "      <th>2018-12-22</th>\n",
              "      <td>8</td>\n",
              "      <td>West Indies</td>\n",
              "      <td>Dhaka</td>\n",
              "    </tr>\n",
              "    <tr>\n",
              "      <th>2020-01-24</th>\n",
              "      <td>39</td>\n",
              "      <td>Pakistan</td>\n",
              "      <td>Lahore</td>\n",
              "    </tr>\n",
              "    <tr>\n",
              "      <th>2020-01-25</th>\n",
              "      <td>65</td>\n",
              "      <td>Pakistan</td>\n",
              "      <td>Lahore</td>\n",
              "    </tr>\n",
              "  </tbody>\n",
              "</table>\n",
              "</div>"
            ],
            "text/plain": [
              "            runs   opposition      ground\n",
              "date                                     \n",
              "2018-05-06    43  Afghanistan    Dehradun\n",
              "2018-07-06     5  Afghanistan    Dehradun\n",
              "2018-07-31     0  West Indies  Basseterre\n",
              "2018-04-08    74  West Indies  Lauderhill\n",
              "2018-05-08    21  West Indies  Lauderhill\n",
              "2018-12-17     5  West Indies      Sylhet\n",
              "2018-12-20    15  West Indies       Dhaka\n",
              "2018-12-22     8  West Indies       Dhaka\n",
              "2020-01-24    39     Pakistan      Lahore\n",
              "2020-01-25    65     Pakistan      Lahore"
            ]
          },
          "metadata": {
            "tags": []
          },
          "execution_count": 4
        }
      ]
    },
    {
      "cell_type": "markdown",
      "metadata": {
        "id": "_NWutrVA-LpY",
        "colab_type": "text"
      },
      "source": [
        "Data type check and conversion"
      ]
    },
    {
      "cell_type": "code",
      "metadata": {
        "id": "K_tdfJwM3osJ",
        "colab_type": "code",
        "outputId": "3ea1e737-a300-430f-d522-de1888d49dd2",
        "colab": {
          "base_uri": "https://localhost:8080/",
          "height": 164
        }
      },
      "source": [
        "df.info();"
      ],
      "execution_count": 5,
      "outputs": [
        {
          "output_type": "stream",
          "text": [
            "<class 'pandas.core.frame.DataFrame'>\n",
            "DatetimeIndex: 77 entries, 2007-01-09 to 2020-01-25\n",
            "Data columns (total 3 columns):\n",
            "runs          77 non-null int64\n",
            "opposition    77 non-null object\n",
            "ground        77 non-null object\n",
            "dtypes: int64(1), object(2)\n",
            "memory usage: 2.4+ KB\n"
          ],
          "name": "stdout"
        }
      ]
    },
    {
      "cell_type": "code",
      "metadata": {
        "id": "8cQ5RFo83seB",
        "colab_type": "code",
        "colab": {}
      },
      "source": [
        "df['opposition'] = df.opposition.astype('category')\n",
        "df['ground'] = df.ground.astype('category')"
      ],
      "execution_count": 0,
      "outputs": []
    },
    {
      "cell_type": "code",
      "metadata": {
        "id": "-lDO_Pb15mdK",
        "colab_type": "code",
        "outputId": "df3d45d1-6930-4e0c-fe6e-e4df425b44e0",
        "colab": {
          "base_uri": "https://localhost:8080/",
          "height": 164
        }
      },
      "source": [
        "df.info()"
      ],
      "execution_count": 7,
      "outputs": [
        {
          "output_type": "stream",
          "text": [
            "<class 'pandas.core.frame.DataFrame'>\n",
            "DatetimeIndex: 77 entries, 2007-01-09 to 2020-01-25\n",
            "Data columns (total 3 columns):\n",
            "runs          77 non-null int64\n",
            "opposition    77 non-null category\n",
            "ground        77 non-null category\n",
            "dtypes: category(2), int64(1)\n",
            "memory usage: 3.6 KB\n"
          ],
          "name": "stdout"
        }
      ]
    },
    {
      "cell_type": "markdown",
      "metadata": {
        "id": "t95Dbbrs-T9J",
        "colab_type": "text"
      },
      "source": [
        "Stastistical EDA"
      ]
    },
    {
      "cell_type": "code",
      "metadata": {
        "id": "Uqj_HtQQ9M4I",
        "colab_type": "code",
        "outputId": "e4b11e56-7704-4ac9-8df6-4a4cfc51a6e3",
        "colab": {
          "base_uri": "https://localhost:8080/",
          "height": 329
        }
      },
      "source": [
        "df.opposition.value_counts()"
      ],
      "execution_count": 8,
      "outputs": [
        {
          "output_type": "execute_result",
          "data": {
            "text/plain": [
              "Pakistan        14\n",
              "West Indies     13\n",
              "Zimbabwe         7\n",
              "Sri Lanka        7\n",
              "India            7\n",
              "New Zealand      6\n",
              "Ireland          5\n",
              "South Africa     4\n",
              "Afghanistan      4\n",
              "Netherlands      3\n",
              "Australia        2\n",
              "Scotland         1\n",
              "Oman             1\n",
              "Nepal            1\n",
              "Kenya            1\n",
              "Hong Kong        1\n",
              "Name: opposition, dtype: int64"
            ]
          },
          "metadata": {
            "tags": []
          },
          "execution_count": 8
        }
      ]
    },
    {
      "cell_type": "code",
      "metadata": {
        "id": "sSFzXrmy9Tjw",
        "colab_type": "code",
        "outputId": "a4be00e1-9d65-4208-aba0-db8a8ff10237",
        "colab": {
          "base_uri": "https://localhost:8080/",
          "height": 513
        }
      },
      "source": [
        "df.ground.value_counts()"
      ],
      "execution_count": 9,
      "outputs": [
        {
          "output_type": "execute_result",
          "data": {
            "text/plain": [
              "Dhaka              16\n",
              "Colombo (RPS)       6\n",
              "Lahore              5\n",
              "Chattogram          4\n",
              "The Hague           3\n",
              "Khulna              3\n",
              "Belfast             3\n",
              "Cape Town           3\n",
              "Dehradun            3\n",
              "Dharamsala          3\n",
              "Johannesburg        3\n",
              "Basseterre          3\n",
              "Kolkata             2\n",
              "Sylhet              2\n",
              "Lauderhill          2\n",
              "Mount Maunganui     2\n",
              "Nairobi (Gym)       2\n",
              "Nottingham          2\n",
              "Bulawayo            2\n",
              "Pallekele           2\n",
              "Karachi             1\n",
              "Hamilton            1\n",
              "Gros Islet          1\n",
              "Lord's              1\n",
              "Napier              1\n",
              "Bengaluru           1\n",
              "Name: ground, dtype: int64"
            ]
          },
          "metadata": {
            "tags": []
          },
          "execution_count": 9
        }
      ]
    },
    {
      "cell_type": "markdown",
      "metadata": {
        "id": "SHalWHWpBtWI",
        "colab_type": "text"
      },
      "source": [
        "Graphical EDA"
      ]
    },
    {
      "cell_type": "code",
      "metadata": {
        "id": "YCgf3fo8GVzf",
        "colab_type": "code",
        "colab": {
          "base_uri": "https://localhost:8080/",
          "height": 652
        },
        "outputId": "b60fdb38-f508-437e-de28-eb8bcf970888"
      },
      "source": [
        "# Runs per opposition\n",
        "fig, ax = plt.subplots(figsize=(15,10))\n",
        "sns.stripplot(x='opposition', y='runs', data=df, size=10)\n",
        "plt.setp( ax.xaxis.get_majorticklabels(), rotation=45 ) ;"
      ],
      "execution_count": 10,
      "outputs": [
        {
          "output_type": "display_data",
          "data": {
            "image/png": "[encoded data removed]",
            "text/plain": [
              "<Figure size 1080x720 with 1 Axes>"
            ]
          },
          "metadata": {
            "tags": []
          }
        }
      ]
    },
    {
      "cell_type": "code",
      "metadata": {
        "id": "Pj5SI095HuVv",
        "colab_type": "code",
        "colab": {
          "base_uri": "https://localhost:8080/",
          "height": 619
        },
        "outputId": "2a904c8b-4a3a-4879-c29d-bd1631721b26"
      },
      "source": [
        "# Runs per opposition\n",
        "fig, ax = plt.subplots(figsize=(15,10))\n",
        "sns.stripplot(y='opposition', x='runs', data=df, size=10, orient='h')\n",
        "plt.setp( ax.xaxis.get_majorticklabels(), rotation=45 ) ;"
      ],
      "execution_count": 11,
      "outputs": [
        {
          "output_type": "display_data",
          "data": {
            "image/png": "[encoded data removed]",
            "text/plain": [
              "<Figure size 1080x720 with 1 Axes>"
            ]
          },
          "metadata": {
            "tags": []
          }
        }
      ]
    },
    {
      "cell_type": "code",
      "metadata": {
        "id": "xlact7OXH7bP",
        "colab_type": "code",
        "colab": {
          "base_uri": "https://localhost:8080/",
          "height": 619
        },
        "outputId": "bd92523d-87da-44de-b78e-1dab4a06fd73"
      },
      "source": [
        "# Runs per ground\n",
        "fig, ax = plt.subplots(figsize=(15,10))\n",
        "sns.stripplot(y='ground', x='runs', data=df, size=10, orient='h')\n",
        "plt.setp( ax.xaxis.get_majorticklabels(), rotation=45 ) ;"
      ],
      "execution_count": 12,
      "outputs": [
        {
          "output_type": "display_data",
          "data": {
            "image/png": "[encoded data removed]",
            "text/plain": [
              "<Figure size 1080x720 with 1 Axes>"
            ]
          },
          "metadata": {
            "tags": []
          }
        }
      ]
    },
    {
      "cell_type": "code",
      "metadata": {
        "id": "cQDFbtVE2sqZ",
        "colab_type": "code",
        "outputId": "fb24db1e-f2cb-4fe1-a3b9-f0bf36f4c917",
        "colab": {
          "base_uri": "https://localhost:8080/",
          "height": 252
        }
      },
      "source": [
        "sns.swarmplot(y='runs', data=df)\n",
        "plt.show()"
      ],
      "execution_count": 13,
      "outputs": [
        {
          "output_type": "display_data",
          "data": {
            "image/png": "[encoded data removed]",
            "text/plain": [
              "<Figure size 432x288 with 1 Axes>"
            ]
          },
          "metadata": {
            "tags": []
          }
        }
      ]
    },
    {
      "cell_type": "code",
      "metadata": {
        "id": "s5Q85tu725Jp",
        "colab_type": "code",
        "outputId": "eba5f3dc-c302-4b6a-f407-51bd83eb03b4",
        "colab": {
          "base_uri": "https://localhost:8080/",
          "height": 252
        }
      },
      "source": [
        "sns.violinplot(y='runs', data=df)\n",
        "plt.show();"
      ],
      "execution_count": 14,
      "outputs": [
        {
          "output_type": "display_data",
          "data": {
            "image/png": "[encoded data removed]",
            "text/plain": [
              "<Figure size 432x288 with 1 Axes>"
            ]
          },
          "metadata": {
            "tags": []
          }
        }
      ]
    },
    {
      "cell_type": "code",
      "metadata": {
        "id": "AWlT8KXB4JYB",
        "colab_type": "code",
        "outputId": "881ef221-610c-4d11-b551-8b2eb8dfad5f",
        "colab": {
          "base_uri": "https://localhost:8080/",
          "height": 272
        }
      },
      "source": [
        "df.plot();"
      ],
      "execution_count": 15,
      "outputs": [
        {
          "output_type": "display_data",
          "data": {
            "image/png": "[encoded data removed]",
            "text/plain": [
              "<Figure size 432x288 with 1 Axes>"
            ]
          },
          "metadata": {
            "tags": []
          }
        }
      ]
    },
    {
      "cell_type": "markdown",
      "metadata": {
        "id": "7ZaUhOCh-yhI",
        "colab_type": "text"
      },
      "source": [
        "More Statistics"
      ]
    },
    {
      "cell_type": "code",
      "metadata": {
        "id": "isIsCAU8AbM5",
        "colab_type": "code",
        "outputId": "ad7e1db9-2c48-4358-e664-7617d43724b7",
        "colab": {
          "base_uri": "https://localhost:8080/",
          "height": 520
        }
      },
      "source": [
        "# annual total runs\n",
        "df.resample('A').sum()"
      ],
      "execution_count": 16,
      "outputs": [
        {
          "output_type": "execute_result",
          "data": {
            "text/html": [
              "<div>\n",
              "<style scoped>\n",
              "    .dataframe tbody tr th:only-of-type {\n",
              "        vertical-align: middle;\n",
              "    }\n",
              "\n",
              "    .dataframe tbody tr th {\n",
              "        vertical-align: top;\n",
              "    }\n",
              "\n",
              "    .dataframe thead th {\n",
              "        text-align: right;\n",
              "    }\n",
              "</style>\n",
              "<table border=\"1\" class=\"dataframe\">\n",
              "  <thead>\n",
              "    <tr style=\"text-align: right;\">\n",
              "      <th></th>\n",
              "      <th>runs</th>\n",
              "    </tr>\n",
              "    <tr>\n",
              "      <th>date</th>\n",
              "      <th></th>\n",
              "    </tr>\n",
              "  </thead>\n",
              "  <tbody>\n",
              "    <tr>\n",
              "      <th>2007-12-31</th>\n",
              "      <td>68</td>\n",
              "    </tr>\n",
              "    <tr>\n",
              "      <th>2008-12-31</th>\n",
              "      <td>48</td>\n",
              "    </tr>\n",
              "    <tr>\n",
              "      <th>2009-12-31</th>\n",
              "      <td>44</td>\n",
              "    </tr>\n",
              "    <tr>\n",
              "      <th>2010-12-31</th>\n",
              "      <td>33</td>\n",
              "    </tr>\n",
              "    <tr>\n",
              "      <th>2011-12-31</th>\n",
              "      <td>11</td>\n",
              "    </tr>\n",
              "    <tr>\n",
              "      <th>2012-12-31</th>\n",
              "      <td>327</td>\n",
              "    </tr>\n",
              "    <tr>\n",
              "      <th>2013-12-31</th>\n",
              "      <td>45</td>\n",
              "    </tr>\n",
              "    <tr>\n",
              "      <th>2014-12-31</th>\n",
              "      <td>126</td>\n",
              "    </tr>\n",
              "    <tr>\n",
              "      <th>2015-12-31</th>\n",
              "      <td>84</td>\n",
              "    </tr>\n",
              "    <tr>\n",
              "      <th>2016-12-31</th>\n",
              "      <td>368</td>\n",
              "    </tr>\n",
              "    <tr>\n",
              "      <th>2017-12-31</th>\n",
              "      <td>103</td>\n",
              "    </tr>\n",
              "    <tr>\n",
              "      <th>2018-12-31</th>\n",
              "      <td>356</td>\n",
              "    </tr>\n",
              "    <tr>\n",
              "      <th>2019-12-31</th>\n",
              "      <td>0</td>\n",
              "    </tr>\n",
              "    <tr>\n",
              "      <th>2020-12-31</th>\n",
              "      <td>104</td>\n",
              "    </tr>\n",
              "  </tbody>\n",
              "</table>\n",
              "</div>"
            ],
            "text/plain": [
              "            runs\n",
              "date            \n",
              "2007-12-31    68\n",
              "2008-12-31    48\n",
              "2009-12-31    44\n",
              "2010-12-31    33\n",
              "2011-12-31    11\n",
              "2012-12-31   327\n",
              "2013-12-31    45\n",
              "2014-12-31   126\n",
              "2015-12-31    84\n",
              "2016-12-31   368\n",
              "2017-12-31   103\n",
              "2018-12-31   356\n",
              "2019-12-31     0\n",
              "2020-12-31   104"
            ]
          },
          "metadata": {
            "tags": []
          },
          "execution_count": 16
        }
      ]
    },
    {
      "cell_type": "code",
      "metadata": {
        "id": "5c_O9t6lA5ex",
        "colab_type": "code",
        "outputId": "df575a8e-3cd1-4800-ac0b-d3b1bc181487",
        "colab": {
          "base_uri": "https://localhost:8080/",
          "height": 520
        }
      },
      "source": [
        "# annual mean runs\n",
        "df.resample('A').mean().fillna('-1') # -1 means no match player"
      ],
      "execution_count": 17,
      "outputs": [
        {
          "output_type": "execute_result",
          "data": {
            "text/html": [
              "<div>\n",
              "<style scoped>\n",
              "    .dataframe tbody tr th:only-of-type {\n",
              "        vertical-align: middle;\n",
              "    }\n",
              "\n",
              "    .dataframe tbody tr th {\n",
              "        vertical-align: top;\n",
              "    }\n",
              "\n",
              "    .dataframe thead th {\n",
              "        text-align: right;\n",
              "    }\n",
              "</style>\n",
              "<table border=\"1\" class=\"dataframe\">\n",
              "  <thead>\n",
              "    <tr style=\"text-align: right;\">\n",
              "      <th></th>\n",
              "      <th>runs</th>\n",
              "    </tr>\n",
              "    <tr>\n",
              "      <th>date</th>\n",
              "      <th></th>\n",
              "    </tr>\n",
              "  </thead>\n",
              "  <tbody>\n",
              "    <tr>\n",
              "      <th>2007-12-31</th>\n",
              "      <td>9.71429</td>\n",
              "    </tr>\n",
              "    <tr>\n",
              "      <th>2008-12-31</th>\n",
              "      <td>24</td>\n",
              "    </tr>\n",
              "    <tr>\n",
              "      <th>2009-12-31</th>\n",
              "      <td>14.6667</td>\n",
              "    </tr>\n",
              "    <tr>\n",
              "      <th>2010-12-31</th>\n",
              "      <td>16.5</td>\n",
              "    </tr>\n",
              "    <tr>\n",
              "      <th>2011-12-31</th>\n",
              "      <td>11</td>\n",
              "    </tr>\n",
              "    <tr>\n",
              "      <th>2012-12-31</th>\n",
              "      <td>36.3333</td>\n",
              "    </tr>\n",
              "    <tr>\n",
              "      <th>2013-12-31</th>\n",
              "      <td>22.5</td>\n",
              "    </tr>\n",
              "    <tr>\n",
              "      <th>2014-12-31</th>\n",
              "      <td>12.6</td>\n",
              "    </tr>\n",
              "    <tr>\n",
              "      <th>2015-12-31</th>\n",
              "      <td>16.8</td>\n",
              "    </tr>\n",
              "    <tr>\n",
              "      <th>2016-12-31</th>\n",
              "      <td>33.4545</td>\n",
              "    </tr>\n",
              "    <tr>\n",
              "      <th>2017-12-31</th>\n",
              "      <td>14.7143</td>\n",
              "    </tr>\n",
              "    <tr>\n",
              "      <th>2018-12-31</th>\n",
              "      <td>22.25</td>\n",
              "    </tr>\n",
              "    <tr>\n",
              "      <th>2019-12-31</th>\n",
              "      <td>-1</td>\n",
              "    </tr>\n",
              "    <tr>\n",
              "      <th>2020-12-31</th>\n",
              "      <td>52</td>\n",
              "    </tr>\n",
              "  </tbody>\n",
              "</table>\n",
              "</div>"
            ],
            "text/plain": [
              "               runs\n",
              "date               \n",
              "2007-12-31  9.71429\n",
              "2008-12-31       24\n",
              "2009-12-31  14.6667\n",
              "2010-12-31     16.5\n",
              "2011-12-31       11\n",
              "2012-12-31  36.3333\n",
              "2013-12-31     22.5\n",
              "2014-12-31     12.6\n",
              "2015-12-31     16.8\n",
              "2016-12-31  33.4545\n",
              "2017-12-31  14.7143\n",
              "2018-12-31    22.25\n",
              "2019-12-31       -1\n",
              "2020-12-31       52"
            ]
          },
          "metadata": {
            "tags": []
          },
          "execution_count": 17
        }
      ]
    },
    {
      "cell_type": "code",
      "metadata": {
        "id": "s2unc35T4oox",
        "colab_type": "code",
        "outputId": "91e4ffa8-3ab5-4dcc-f873-b05c39c1c089",
        "colab": {
          "base_uri": "https://localhost:8080/",
          "height": 583
        }
      },
      "source": [
        "# Average runs per opposition\n",
        "df.groupby('opposition').mean().sort_values(by='runs', ascending=False)"
      ],
      "execution_count": 18,
      "outputs": [
        {
          "output_type": "execute_result",
          "data": {
            "text/html": [
              "<div>\n",
              "<style scoped>\n",
              "    .dataframe tbody tr th:only-of-type {\n",
              "        vertical-align: middle;\n",
              "    }\n",
              "\n",
              "    .dataframe tbody tr th {\n",
              "        vertical-align: top;\n",
              "    }\n",
              "\n",
              "    .dataframe thead th {\n",
              "        text-align: right;\n",
              "    }\n",
              "</style>\n",
              "<table border=\"1\" class=\"dataframe\">\n",
              "  <thead>\n",
              "    <tr style=\"text-align: right;\">\n",
              "      <th></th>\n",
              "      <th>runs</th>\n",
              "    </tr>\n",
              "    <tr>\n",
              "      <th>opposition</th>\n",
              "      <th></th>\n",
              "    </tr>\n",
              "  </thead>\n",
              "  <tbody>\n",
              "    <tr>\n",
              "      <th>Oman</th>\n",
              "      <td>103.000000</td>\n",
              "    </tr>\n",
              "    <tr>\n",
              "      <th>Netherlands</th>\n",
              "      <td>67.333333</td>\n",
              "    </tr>\n",
              "    <tr>\n",
              "      <th>Nepal</th>\n",
              "      <td>30.000000</td>\n",
              "    </tr>\n",
              "    <tr>\n",
              "      <th>Ireland</th>\n",
              "      <td>27.800000</td>\n",
              "    </tr>\n",
              "    <tr>\n",
              "      <th>Scotland</th>\n",
              "      <td>26.000000</td>\n",
              "    </tr>\n",
              "    <tr>\n",
              "      <th>Sri Lanka</th>\n",
              "      <td>23.000000</td>\n",
              "    </tr>\n",
              "    <tr>\n",
              "      <th>Zimbabwe</th>\n",
              "      <td>21.428571</td>\n",
              "    </tr>\n",
              "    <tr>\n",
              "      <th>Pakistan</th>\n",
              "      <td>20.714286</td>\n",
              "    </tr>\n",
              "    <tr>\n",
              "      <th>West Indies</th>\n",
              "      <td>19.769231</td>\n",
              "    </tr>\n",
              "    <tr>\n",
              "      <th>Australia</th>\n",
              "      <td>18.500000</td>\n",
              "    </tr>\n",
              "    <tr>\n",
              "      <th>India</th>\n",
              "      <td>18.000000</td>\n",
              "    </tr>\n",
              "    <tr>\n",
              "      <th>Afghanistan</th>\n",
              "      <td>17.250000</td>\n",
              "    </tr>\n",
              "    <tr>\n",
              "      <th>South Africa</th>\n",
              "      <td>12.750000</td>\n",
              "    </tr>\n",
              "    <tr>\n",
              "      <th>Kenya</th>\n",
              "      <td>11.000000</td>\n",
              "    </tr>\n",
              "    <tr>\n",
              "      <th>New Zealand</th>\n",
              "      <td>10.833333</td>\n",
              "    </tr>\n",
              "    <tr>\n",
              "      <th>Hong Kong</th>\n",
              "      <td>0.000000</td>\n",
              "    </tr>\n",
              "  </tbody>\n",
              "</table>\n",
              "</div>"
            ],
            "text/plain": [
              "                    runs\n",
              "opposition              \n",
              "Oman          103.000000\n",
              "Netherlands    67.333333\n",
              "Nepal          30.000000\n",
              "Ireland        27.800000\n",
              "Scotland       26.000000\n",
              "Sri Lanka      23.000000\n",
              "Zimbabwe       21.428571\n",
              "Pakistan       20.714286\n",
              "West Indies    19.769231\n",
              "Australia      18.500000\n",
              "India          18.000000\n",
              "Afghanistan    17.250000\n",
              "South Africa   12.750000\n",
              "Kenya          11.000000\n",
              "New Zealand    10.833333\n",
              "Hong Kong       0.000000"
            ]
          },
          "metadata": {
            "tags": []
          },
          "execution_count": 18
        }
      ]
    },
    {
      "cell_type": "code",
      "metadata": {
        "id": "7N_tnFeA6iLp",
        "colab_type": "code",
        "outputId": "3ba2ffeb-765b-4088-905c-d23595894042",
        "colab": {
          "base_uri": "https://localhost:8080/",
          "height": 426
        }
      },
      "source": [
        "# Standard Deviation of runs per opposition\n",
        "df.groupby('opposition').std().dropna().sort_values(by='runs')"
      ],
      "execution_count": 19,
      "outputs": [
        {
          "output_type": "execute_result",
          "data": {
            "text/html": [
              "<div>\n",
              "<style scoped>\n",
              "    .dataframe tbody tr th:only-of-type {\n",
              "        vertical-align: middle;\n",
              "    }\n",
              "\n",
              "    .dataframe tbody tr th {\n",
              "        vertical-align: top;\n",
              "    }\n",
              "\n",
              "    .dataframe thead th {\n",
              "        text-align: right;\n",
              "    }\n",
              "</style>\n",
              "<table border=\"1\" class=\"dataframe\">\n",
              "  <thead>\n",
              "    <tr style=\"text-align: right;\">\n",
              "      <th></th>\n",
              "      <th>runs</th>\n",
              "    </tr>\n",
              "    <tr>\n",
              "      <th>opposition</th>\n",
              "      <th></th>\n",
              "    </tr>\n",
              "  </thead>\n",
              "  <tbody>\n",
              "    <tr>\n",
              "      <th>New Zealand</th>\n",
              "      <td>8.565434</td>\n",
              "    </tr>\n",
              "    <tr>\n",
              "      <th>South Africa</th>\n",
              "      <td>8.808140</td>\n",
              "    </tr>\n",
              "    <tr>\n",
              "      <th>India</th>\n",
              "      <td>9.712535</td>\n",
              "    </tr>\n",
              "    <tr>\n",
              "      <th>Zimbabwe</th>\n",
              "      <td>15.339026</td>\n",
              "    </tr>\n",
              "    <tr>\n",
              "      <th>Pakistan</th>\n",
              "      <td>16.030877</td>\n",
              "    </tr>\n",
              "    <tr>\n",
              "      <th>Netherlands</th>\n",
              "      <td>16.563011</td>\n",
              "    </tr>\n",
              "    <tr>\n",
              "      <th>Ireland</th>\n",
              "      <td>18.102486</td>\n",
              "    </tr>\n",
              "    <tr>\n",
              "      <th>Australia</th>\n",
              "      <td>19.091883</td>\n",
              "    </tr>\n",
              "    <tr>\n",
              "      <th>Afghanistan</th>\n",
              "      <td>19.362765</td>\n",
              "    </tr>\n",
              "    <tr>\n",
              "      <th>Sri Lanka</th>\n",
              "      <td>21.447611</td>\n",
              "    </tr>\n",
              "    <tr>\n",
              "      <th>West Indies</th>\n",
              "      <td>27.860228</td>\n",
              "    </tr>\n",
              "  </tbody>\n",
              "</table>\n",
              "</div>"
            ],
            "text/plain": [
              "                   runs\n",
              "opposition             \n",
              "New Zealand    8.565434\n",
              "South Africa   8.808140\n",
              "India          9.712535\n",
              "Zimbabwe      15.339026\n",
              "Pakistan      16.030877\n",
              "Netherlands   16.563011\n",
              "Ireland       18.102486\n",
              "Australia     19.091883\n",
              "Afghanistan   19.362765\n",
              "Sri Lanka     21.447611\n",
              "West Indies   27.860228"
            ]
          },
          "metadata": {
            "tags": []
          },
          "execution_count": 19
        }
      ]
    },
    {
      "cell_type": "code",
      "metadata": {
        "id": "wfEBQq389xFQ",
        "colab_type": "code",
        "outputId": "500302bd-7cd3-4224-db4c-ac3ece178c20",
        "colab": {
          "base_uri": "https://localhost:8080/",
          "height": 583
        }
      },
      "source": [
        "# Median runs per opposition\n",
        "df.groupby('opposition').median().sort_values(by='runs', ascending=False)"
      ],
      "execution_count": 20,
      "outputs": [
        {
          "output_type": "execute_result",
          "data": {
            "text/html": [
              "<div>\n",
              "<style scoped>\n",
              "    .dataframe tbody tr th:only-of-type {\n",
              "        vertical-align: middle;\n",
              "    }\n",
              "\n",
              "    .dataframe tbody tr th {\n",
              "        vertical-align: top;\n",
              "    }\n",
              "\n",
              "    .dataframe thead th {\n",
              "        text-align: right;\n",
              "    }\n",
              "</style>\n",
              "<table border=\"1\" class=\"dataframe\">\n",
              "  <thead>\n",
              "    <tr style=\"text-align: right;\">\n",
              "      <th></th>\n",
              "      <th>runs</th>\n",
              "    </tr>\n",
              "    <tr>\n",
              "      <th>opposition</th>\n",
              "      <th></th>\n",
              "    </tr>\n",
              "  </thead>\n",
              "  <tbody>\n",
              "    <tr>\n",
              "      <th>Oman</th>\n",
              "      <td>103.0</td>\n",
              "    </tr>\n",
              "    <tr>\n",
              "      <th>Netherlands</th>\n",
              "      <td>69.0</td>\n",
              "    </tr>\n",
              "    <tr>\n",
              "      <th>Ireland</th>\n",
              "      <td>31.0</td>\n",
              "    </tr>\n",
              "    <tr>\n",
              "      <th>Nepal</th>\n",
              "      <td>30.0</td>\n",
              "    </tr>\n",
              "    <tr>\n",
              "      <th>Sri Lanka</th>\n",
              "      <td>29.0</td>\n",
              "    </tr>\n",
              "    <tr>\n",
              "      <th>Scotland</th>\n",
              "      <td>26.0</td>\n",
              "    </tr>\n",
              "    <tr>\n",
              "      <th>Zimbabwe</th>\n",
              "      <td>23.0</td>\n",
              "    </tr>\n",
              "    <tr>\n",
              "      <th>Australia</th>\n",
              "      <td>18.5</td>\n",
              "    </tr>\n",
              "    <tr>\n",
              "      <th>Pakistan</th>\n",
              "      <td>18.5</td>\n",
              "    </tr>\n",
              "    <tr>\n",
              "      <th>India</th>\n",
              "      <td>15.0</td>\n",
              "    </tr>\n",
              "    <tr>\n",
              "      <th>Afghanistan</th>\n",
              "      <td>13.0</td>\n",
              "    </tr>\n",
              "    <tr>\n",
              "      <th>New Zealand</th>\n",
              "      <td>12.0</td>\n",
              "    </tr>\n",
              "    <tr>\n",
              "      <th>Kenya</th>\n",
              "      <td>11.0</td>\n",
              "    </tr>\n",
              "    <tr>\n",
              "      <th>South Africa</th>\n",
              "      <td>10.5</td>\n",
              "    </tr>\n",
              "    <tr>\n",
              "      <th>West Indies</th>\n",
              "      <td>10.0</td>\n",
              "    </tr>\n",
              "    <tr>\n",
              "      <th>Hong Kong</th>\n",
              "      <td>0.0</td>\n",
              "    </tr>\n",
              "  </tbody>\n",
              "</table>\n",
              "</div>"
            ],
            "text/plain": [
              "               runs\n",
              "opposition         \n",
              "Oman          103.0\n",
              "Netherlands    69.0\n",
              "Ireland        31.0\n",
              "Nepal          30.0\n",
              "Sri Lanka      29.0\n",
              "Scotland       26.0\n",
              "Zimbabwe       23.0\n",
              "Australia      18.5\n",
              "Pakistan       18.5\n",
              "India          15.0\n",
              "Afghanistan    13.0\n",
              "New Zealand    12.0\n",
              "Kenya          11.0\n",
              "South Africa   10.5\n",
              "West Indies    10.0\n",
              "Hong Kong       0.0"
            ]
          },
          "metadata": {
            "tags": []
          },
          "execution_count": 20
        }
      ]
    },
    {
      "cell_type": "code",
      "metadata": {
        "id": "wIiphNj_6EAZ",
        "colab_type": "code",
        "outputId": "41625756-6fdf-4beb-b3e5-09f81fc00768",
        "colab": {
          "base_uri": "https://localhost:8080/",
          "height": 238
        }
      },
      "source": [
        "# Top avg runs per ground\n",
        "df.groupby('ground').mean().sort_values(by='runs', ascending=False).head()"
      ],
      "execution_count": 21,
      "outputs": [
        {
          "output_type": "execute_result",
          "data": {
            "text/html": [
              "<div>\n",
              "<style scoped>\n",
              "    .dataframe tbody tr th:only-of-type {\n",
              "        vertical-align: middle;\n",
              "    }\n",
              "\n",
              "    .dataframe tbody tr th {\n",
              "        vertical-align: top;\n",
              "    }\n",
              "\n",
              "    .dataframe thead th {\n",
              "        text-align: right;\n",
              "    }\n",
              "</style>\n",
              "<table border=\"1\" class=\"dataframe\">\n",
              "  <thead>\n",
              "    <tr style=\"text-align: right;\">\n",
              "      <th></th>\n",
              "      <th>runs</th>\n",
              "    </tr>\n",
              "    <tr>\n",
              "      <th>ground</th>\n",
              "      <th></th>\n",
              "    </tr>\n",
              "  </thead>\n",
              "  <tbody>\n",
              "    <tr>\n",
              "      <th>Dharamsala</th>\n",
              "      <td>77.666667</td>\n",
              "    </tr>\n",
              "    <tr>\n",
              "      <th>The Hague</th>\n",
              "      <td>48.333333</td>\n",
              "    </tr>\n",
              "    <tr>\n",
              "      <th>Lauderhill</th>\n",
              "      <td>47.500000</td>\n",
              "    </tr>\n",
              "    <tr>\n",
              "      <th>Bengaluru</th>\n",
              "      <td>35.000000</td>\n",
              "    </tr>\n",
              "    <tr>\n",
              "      <th>Lahore</th>\n",
              "      <td>31.800000</td>\n",
              "    </tr>\n",
              "  </tbody>\n",
              "</table>\n",
              "</div>"
            ],
            "text/plain": [
              "                 runs\n",
              "ground               \n",
              "Dharamsala  77.666667\n",
              "The Hague   48.333333\n",
              "Lauderhill  47.500000\n",
              "Bengaluru   35.000000\n",
              "Lahore      31.800000"
            ]
          },
          "metadata": {
            "tags": []
          },
          "execution_count": 21
        }
      ]
    },
    {
      "cell_type": "code",
      "metadata": {
        "id": "vAM21GcR6O5h",
        "colab_type": "code",
        "outputId": "cc1acb05-8ad0-4322-a2ae-3d5fc65045aa",
        "colab": {
          "base_uri": "https://localhost:8080/",
          "height": 326
        }
      },
      "source": [
        "df.groupby('opposition').mean().sort_values(by='runs', ascending=False).plot()\n",
        "plt.xticks(rotation=45);"
      ],
      "execution_count": 22,
      "outputs": [
        {
          "output_type": "display_data",
          "data": {
            "image/png": "[encoded data removed]",
            "text/plain": [
              "<Figure size 432x288 with 1 Axes>"
            ]
          },
          "metadata": {
            "tags": []
          }
        }
      ]
    }
  ]
}